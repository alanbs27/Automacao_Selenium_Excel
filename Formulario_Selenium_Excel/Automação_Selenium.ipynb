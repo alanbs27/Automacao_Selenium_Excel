{
 "cells": [
  {
   "cell_type": "markdown",
   "id": "3a040c09",
   "metadata": {},
   "source": [
    "# Atomação de preenchimento de formulário usando Selenium e Excel\n",
    "\n",
    "## Foi utilizado neste projeto a biblioteca Faker para gerar dados falsos para a planilha\n",
    "link do formulário - https://docs.google.com/forms/d/e/1FAIpQLSeLnmw9U62eAZADRo6fQB2Uv70GIap4PBOs86cEJzXqLyo2JA/viewform"
   ]
  },
  {
   "cell_type": "code",
   "execution_count": 16,
   "id": "7e0a5231",
   "metadata": {},
   "outputs": [],
   "source": [
    "# Imports\n",
    "from selenium import webdriver\n",
    "from selenium.webdriver.common.by import By\n",
    "import pandas as pd\n",
    "from faker import Faker # Cria dados falsos para o preenchimento da planilha"
   ]
  },
  {
   "cell_type": "markdown",
   "id": "417c5123",
   "metadata": {},
   "source": [
    "# Primeiro criamos os dados falsos para salvar em um arquivo excel"
   ]
  },
  {
   "cell_type": "code",
   "execution_count": 20,
   "id": "99747f50",
   "metadata": {},
   "outputs": [],
   "source": [
    "fake = Faker()\n",
    "df_fake = pd.DataFrame({'nome': [fake.name() for i in range(10)],\n",
    "                       'email': [fake.email() for i in range(10)],\n",
    "                       'cpf': [fake.random_number(digits=11) for i in range(10)]})                   \n",
    "df_fake.to_excel('clientes.xlsx', index=False) #Salvando a planilha excel na pasta                        "
   ]
  },
  {
   "cell_type": "code",
   "execution_count": 22,
   "id": "b2363d7c",
   "metadata": {},
   "outputs": [],
   "source": [
    "df = pd.read_excel('clientes.xlsx') # Lendo a planilha salva com os dados de clientes"
   ]
  },
  {
   "cell_type": "markdown",
   "id": "155724b8",
   "metadata": {},
   "source": [
    "# Nesta etapa será feito o preenchimento do formulário, o loop irá percorrer toda a planilha Excel preenchendo o formulário e depois fechará a página"
   ]
  },
  {
   "cell_type": "code",
   "execution_count": 23,
   "id": "a1d133f8",
   "metadata": {},
   "outputs": [],
   "source": [
    "for i in df.index:\n",
    "    nome = df.loc[i, 'nome']\n",
    "    email = df.loc[i, 'email']\n",
    "    cpf = df.loc[i, 'cpf']\n",
    "    navegador = webdriver.Chrome()\n",
    "    \n",
    "    navegador.get('https://docs.google.com/forms/d/e/1FAIpQLSeLnmw9U62eAZADRo6fQB2Uv70GIap4PBOs86cEJzXqLyo2JA/viewform')\n",
    "    \n",
    "    navegador.find_element(By.XPATH, '//*[@id=\"mG61Hd\"]/div[2]/div/div[2]/div[1]/div/div/div[2]/div/div[1]/div/div[1]/input' ).send_keys(nome)\n",
    "    \n",
    "    navegador.find_element(By.XPATH, '//*[@id=\"mG61Hd\"]/div[2]/div/div[2]/div[2]/div/div/div[2]/div/div[1]/div/div[1]/input').send_keys(email)\n",
    "    \n",
    "    navegador.find_element(By.XPATH, '//*[@id=\"mG61Hd\"]/div[2]/div/div[2]/div[3]/div/div/div[2]/div/div[1]/div/div[1]/input').send_keys(str(cpf))\n",
    "    \n",
    "    navegador.find_element(By.XPATH, '//*[@id=\"mG61Hd\"]/div[2]/div/div[3]/div[1]/div[1]/div/span/span').click()\n",
    "\n",
    "navegador.close()    "
   ]
  },
  {
   "cell_type": "markdown",
   "id": "5298045e",
   "metadata": {},
   "source": [
    "# Fim"
   ]
  }
 ],
 "metadata": {
  "kernelspec": {
   "display_name": "Python 3 (ipykernel)",
   "language": "python",
   "name": "python3"
  },
  "language_info": {
   "codemirror_mode": {
    "name": "ipython",
    "version": 3
   },
   "file_extension": ".py",
   "mimetype": "text/x-python",
   "name": "python",
   "nbconvert_exporter": "python",
   "pygments_lexer": "ipython3",
   "version": "3.9.13"
  }
 },
 "nbformat": 4,
 "nbformat_minor": 5
}
